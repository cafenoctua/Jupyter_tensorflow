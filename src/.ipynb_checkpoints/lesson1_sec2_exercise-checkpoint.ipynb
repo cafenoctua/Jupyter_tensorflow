{
 "cells": [
  {
   "cell_type": "markdown",
   "metadata": {},
   "source": [
    "# Lesson1 手書き文字認識をしよう（ニューラルネットワーク入門）"
   ]
  },
  {
   "cell_type": "markdown",
   "metadata": {},
   "source": [
    "## 目次\n",
    "\n",
    "- 1.6の解答\n",
    "- Section2 実装①\n",
    "  - 2.1 MNISTによるMLPの復習"
   ]
  },
  {
   "cell_type": "markdown",
   "metadata": {},
   "source": [
    "## 1.6の解答\n",
    "\n",
    "1. 学習データ以外の未知のデータに対するモデルの予測性能を何というか  \n",
    "  ①神通力　②バイアス　**③汎化性能**　④共起性\n",
    "2. データセット全体を一度に全て使用して学習する方法を何というか  \n",
    "  ①転移学習　②ワンショット学習　③過学習　**④バッチ学習**　\n",
    "3. 名義尺度のデータをバイナリベクトルによって表現したものを何というか  \n",
    "  ①分散表現　**②one-hot表現**　③ビット表現　④ユニタリ表現\n",
    "4. モデルの学習に当たって最小化するものは何か  \n",
    "  ①精度　**②損失関数**　③スコア　④F値"
   ]
  },
  {
   "cell_type": "markdown",
   "metadata": {},
   "source": [
    "## Section2 実装①"
   ]
  },
  {
   "cell_type": "markdown",
   "metadata": {},
   "source": [
    "### 2.1 MNISTによるMLPの復習"
   ]
  },
  {
   "cell_type": "code",
   "execution_count": 2,
   "metadata": {},
   "outputs": [],
   "source": [
    "# データのロード\n",
    "from tensorflow.keras.datasets import mnist\n",
    "\n",
    "(x_train, y_train), (x_test, y_test) = mnist.load_data()"
   ]
  },
  {
   "cell_type": "code",
   "execution_count": 3,
   "metadata": {},
   "outputs": [],
   "source": [
    "# データの整形\n",
    "from tensorflow.keras.utils import to_categorical\n",
    "\n",
    "x_train = x_train.reshape(-1, 784)\n",
    "x_test = x_test.reshape(-1, 784)\n",
    "\n",
    "y_train = to_categorical(y_train)\n",
    "y_test = to_categorical(y_test)"
   ]
  },
  {
   "cell_type": "code",
   "execution_count": 4,
   "metadata": {},
   "outputs": [
    {
     "name": "stdout",
     "output_type": "stream",
     "text": [
      "WARNING:tensorflow:From /opt/conda/lib/python3.7/site-packages/tensorflow/python/ops/resource_variable_ops.py:435: colocate_with (from tensorflow.python.framework.ops) is deprecated and will be removed in a future version.\n",
      "Instructions for updating:\n",
      "Colocations handled automatically by placer.\n"
     ]
    }
   ],
   "source": [
    "# モデル構築\n",
    "from tensorflow.keras.models import Sequential\n",
    "from tensorflow.keras.layers import Dense, Activation\n",
    "\n",
    "model = Sequential()\n",
    "\n",
    "model.add(Dense(units=256, input_shape=(784,)))\n",
    "model.add(Activation('relu'))\n",
    "model.add(Dense(units=100))\n",
    "model.add(Activation('relu'))\n",
    "model.add(Dense(units=10))\n",
    "model.add(Activation('softmax'))\n",
    "\n",
    "model.compile(loss='categorical_crossentropy', optimizer='sgd', metrics=['accuracy'])"
   ]
  },
  {
   "cell_type": "code",
   "execution_count": 5,
   "metadata": {},
   "outputs": [
    {
     "name": "stdout",
     "output_type": "stream",
     "text": [
      "Train on 60000 samples, validate on 10000 samples\n",
      "WARNING:tensorflow:From /opt/conda/lib/python3.7/site-packages/tensorflow/python/ops/math_ops.py:3066: to_int32 (from tensorflow.python.ops.math_ops) is deprecated and will be removed in a future version.\n",
      "Instructions for updating:\n",
      "Use tf.cast instead.\n",
      "Epoch 1/10\n",
      "60000/60000 [==============================] - 1s 9us/sample - loss: 10.6597 - acc: 0.3355 - val_loss: 9.6994 - val_acc: 0.3965\n",
      "Epoch 2/10\n",
      "60000/60000 [==============================] - 0s 7us/sample - loss: 9.1617 - acc: 0.4286 - val_loss: 8.4899 - val_acc: 0.4684\n",
      "Epoch 3/10\n",
      "60000/60000 [==============================] - 0s 7us/sample - loss: 8.0754 - acc: 0.4952 - val_loss: 7.1035 - val_acc: 0.5534\n",
      "Epoch 4/10\n",
      "60000/60000 [==============================] - 0s 7us/sample - loss: 6.9743 - acc: 0.5626 - val_loss: 6.9245 - val_acc: 0.5663\n",
      "Epoch 5/10\n",
      "60000/60000 [==============================] - 0s 7us/sample - loss: 5.9483 - acc: 0.6235 - val_loss: 5.5389 - val_acc: 0.6469\n",
      "Epoch 6/10\n",
      "60000/60000 [==============================] - 0s 7us/sample - loss: 4.1941 - acc: 0.7295 - val_loss: 2.8649 - val_acc: 0.8101\n",
      "Epoch 7/10\n",
      "60000/60000 [==============================] - 0s 8us/sample - loss: 2.7658 - acc: 0.8178 - val_loss: 2.5188 - val_acc: 0.8343\n",
      "Epoch 8/10\n",
      "60000/60000 [==============================] - 0s 8us/sample - loss: 2.4338 - acc: 0.8392 - val_loss: 2.4079 - val_acc: 0.8414\n",
      "Epoch 9/10\n",
      "60000/60000 [==============================] - 0s 8us/sample - loss: 2.2803 - acc: 0.8494 - val_loss: 2.2846 - val_acc: 0.8493\n",
      "Epoch 10/10\n",
      "60000/60000 [==============================] - 0s 8us/sample - loss: 2.1644 - acc: 0.8574 - val_loss: 2.2156 - val_acc: 0.8528\n"
     ]
    },
    {
     "data": {
      "text/plain": [
       "<tensorflow.python.keras.callbacks.History at 0x7f21b92fc8d0>"
      ]
     },
     "execution_count": 5,
     "metadata": {},
     "output_type": "execute_result"
    }
   ],
   "source": [
    "# 学習\n",
    "model.fit(x_train, y_train, batch_size=1000, epochs=10, verbose=1, validation_data=(x_test, y_test))"
   ]
  },
  {
   "cell_type": "code",
   "execution_count": 6,
   "metadata": {},
   "outputs": [
    {
     "name": "stdout",
     "output_type": "stream",
     "text": [
      "Test loss: 2.215641754204035\n",
      "Test accuracy: 0.8528\n"
     ]
    }
   ],
   "source": [
    "# 性能評価\n",
    "score = model.evaluate(x_test, y_test, verbose=0)\n",
    "print('Test loss:', score[0])\n",
    "print('Test accuracy:', score[1])"
   ]
  },
  {
   "cell_type": "code",
   "execution_count": 8,
   "metadata": {},
   "outputs": [
    {
     "name": "stdout",
     "output_type": "stream",
     "text": [
      "/bin/sh: 1: nvidia-smi: not found\r\n"
     ]
    }
   ],
   "source": [
    "!nvidia-smi"
   ]
  },
  {
   "cell_type": "code",
   "execution_count": null,
   "metadata": {},
   "outputs": [],
   "source": []
  }
 ],
 "metadata": {
  "kernelspec": {
   "display_name": "Python 3",
   "language": "python",
   "name": "python3"
  },
  "language_info": {
   "codemirror_mode": {
    "name": "ipython",
    "version": 3
   },
   "file_extension": ".py",
   "mimetype": "text/x-python",
   "name": "python",
   "nbconvert_exporter": "python",
   "pygments_lexer": "ipython3",
   "version": "3.7.3"
  }
 },
 "nbformat": 4,
 "nbformat_minor": 1
}
